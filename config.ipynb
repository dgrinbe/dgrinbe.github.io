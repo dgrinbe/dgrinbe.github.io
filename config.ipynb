{
 "cells": [
  {
   "cell_type": "code",
   "execution_count": null,
   "id": "4aa371e6",
   "metadata": {},
   "outputs": [],
   "source": [
    "SPOTIPY_CLIENT_ID='54b4d98d84ab4c3ebbe00ce0a6b51e25'\n",
    "SPOTIPY_CLIENT_SECRET='5677193076674bd4b79fe3c7cd579efa'"
   ]
  }
 ],
 "metadata": {
  "kernelspec": {
   "display_name": "Python 3 (ipykernel)",
   "language": "python",
   "name": "python3"
  },
  "language_info": {
   "codemirror_mode": {
    "name": "ipython",
    "version": 3
   },
   "file_extension": ".py",
   "mimetype": "text/x-python",
   "name": "python",
   "nbconvert_exporter": "python",
   "pygments_lexer": "ipython3",
   "version": "3.11.4"
  }
 },
 "nbformat": 4,
 "nbformat_minor": 5
}
